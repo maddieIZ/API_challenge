{
 "cells": [
  {
   "cell_type": "markdown",
   "metadata": {},
   "source": [
    "# VacationPy\n",
    "----\n",
    "\n",
    "#### Note\n",
    "* Instructions have been included for each segment. You do not have to follow them exactly, but they are included to help you think through the steps."
   ]
  },
  {
   "cell_type": "code",
   "execution_count": 26,
   "metadata": {},
   "outputs": [],
   "source": [
    "# Dependencies and Setup\n",
    "import matplotlib.pyplot as plt\n",
    "import pandas as pd\n",
    "import numpy as np\n",
    "import requests\n",
    "import gmaps\n",
    "import os\n",
    "import csv\n",
    "\n",
    "# Import API key\n",
    "from api_keys import g_key\n"
   ]
  },
  {
   "cell_type": "markdown",
   "metadata": {},
   "source": [
    "### Store Part I results into DataFrame"
   ]
  },
  {
   "cell_type": "code",
   "execution_count": 66,
   "metadata": {},
   "outputs": [
    {
     "data": {
      "text/html": [
       "<div>\n",
       "<style scoped>\n",
       "    .dataframe tbody tr th:only-of-type {\n",
       "        vertical-align: middle;\n",
       "    }\n",
       "\n",
       "    .dataframe tbody tr th {\n",
       "        vertical-align: top;\n",
       "    }\n",
       "\n",
       "    .dataframe thead th {\n",
       "        text-align: right;\n",
       "    }\n",
       "</style>\n",
       "<table border=\"1\" class=\"dataframe\">\n",
       "  <thead>\n",
       "    <tr style=\"text-align: right;\">\n",
       "      <th></th>\n",
       "      <th>City</th>\n",
       "      <th>Cloudiness</th>\n",
       "      <th>Country</th>\n",
       "      <th>Date</th>\n",
       "      <th>Humidity</th>\n",
       "      <th>Lat</th>\n",
       "      <th>Lng</th>\n",
       "      <th>Max Temp</th>\n",
       "      <th>Wind Speed</th>\n",
       "    </tr>\n",
       "  </thead>\n",
       "  <tbody>\n",
       "    <tr>\n",
       "      <td>0</td>\n",
       "      <td>Ponta Delgada</td>\n",
       "      <td>20</td>\n",
       "      <td>PT</td>\n",
       "      <td>1584214889</td>\n",
       "      <td>72</td>\n",
       "      <td>37.73</td>\n",
       "      <td>-25.67</td>\n",
       "      <td>60.80</td>\n",
       "      <td>13.87</td>\n",
       "    </tr>\n",
       "    <tr>\n",
       "      <td>1</td>\n",
       "      <td>Rikitea</td>\n",
       "      <td>0</td>\n",
       "      <td>PF</td>\n",
       "      <td>1584214891</td>\n",
       "      <td>80</td>\n",
       "      <td>-23.12</td>\n",
       "      <td>-134.97</td>\n",
       "      <td>77.67</td>\n",
       "      <td>13.69</td>\n",
       "    </tr>\n",
       "    <tr>\n",
       "      <td>2</td>\n",
       "      <td>Lebu</td>\n",
       "      <td>0</td>\n",
       "      <td>CL</td>\n",
       "      <td>1584214893</td>\n",
       "      <td>54</td>\n",
       "      <td>-37.62</td>\n",
       "      <td>-73.65</td>\n",
       "      <td>62.87</td>\n",
       "      <td>13.24</td>\n",
       "    </tr>\n",
       "    <tr>\n",
       "      <td>3</td>\n",
       "      <td>Korla</td>\n",
       "      <td>100</td>\n",
       "      <td>CN</td>\n",
       "      <td>1584214895</td>\n",
       "      <td>59</td>\n",
       "      <td>41.76</td>\n",
       "      <td>86.15</td>\n",
       "      <td>39.99</td>\n",
       "      <td>1.57</td>\n",
       "    </tr>\n",
       "    <tr>\n",
       "      <td>4</td>\n",
       "      <td>Isangel</td>\n",
       "      <td>75</td>\n",
       "      <td>VU</td>\n",
       "      <td>1584214897</td>\n",
       "      <td>78</td>\n",
       "      <td>-19.55</td>\n",
       "      <td>169.27</td>\n",
       "      <td>82.40</td>\n",
       "      <td>12.75</td>\n",
       "    </tr>\n",
       "    <tr>\n",
       "      <td>...</td>\n",
       "      <td>...</td>\n",
       "      <td>...</td>\n",
       "      <td>...</td>\n",
       "      <td>...</td>\n",
       "      <td>...</td>\n",
       "      <td>...</td>\n",
       "      <td>...</td>\n",
       "      <td>...</td>\n",
       "      <td>...</td>\n",
       "    </tr>\n",
       "    <tr>\n",
       "      <td>577</td>\n",
       "      <td>Kysyl-Syr</td>\n",
       "      <td>100</td>\n",
       "      <td>RU</td>\n",
       "      <td>1584216140</td>\n",
       "      <td>98</td>\n",
       "      <td>63.90</td>\n",
       "      <td>122.76</td>\n",
       "      <td>-3.15</td>\n",
       "      <td>6.44</td>\n",
       "    </tr>\n",
       "    <tr>\n",
       "      <td>578</td>\n",
       "      <td>Karratha</td>\n",
       "      <td>88</td>\n",
       "      <td>AU</td>\n",
       "      <td>1584216142</td>\n",
       "      <td>76</td>\n",
       "      <td>-20.74</td>\n",
       "      <td>116.85</td>\n",
       "      <td>83.07</td>\n",
       "      <td>14.34</td>\n",
       "    </tr>\n",
       "    <tr>\n",
       "      <td>579</td>\n",
       "      <td>Kalat</td>\n",
       "      <td>99</td>\n",
       "      <td>PK</td>\n",
       "      <td>1584216145</td>\n",
       "      <td>32</td>\n",
       "      <td>29.02</td>\n",
       "      <td>66.59</td>\n",
       "      <td>44.19</td>\n",
       "      <td>1.52</td>\n",
       "    </tr>\n",
       "    <tr>\n",
       "      <td>580</td>\n",
       "      <td>Moa</td>\n",
       "      <td>0</td>\n",
       "      <td>CU</td>\n",
       "      <td>1584216147</td>\n",
       "      <td>69</td>\n",
       "      <td>20.66</td>\n",
       "      <td>-74.94</td>\n",
       "      <td>75.51</td>\n",
       "      <td>9.44</td>\n",
       "    </tr>\n",
       "    <tr>\n",
       "      <td>581</td>\n",
       "      <td>Hsinchu</td>\n",
       "      <td>75</td>\n",
       "      <td>TW</td>\n",
       "      <td>1584216005</td>\n",
       "      <td>76</td>\n",
       "      <td>24.80</td>\n",
       "      <td>120.97</td>\n",
       "      <td>57.99</td>\n",
       "      <td>10.29</td>\n",
       "    </tr>\n",
       "  </tbody>\n",
       "</table>\n",
       "<p>582 rows × 9 columns</p>\n",
       "</div>"
      ],
      "text/plain": [
       "              City  Cloudiness Country        Date  Humidity    Lat     Lng  \\\n",
       "0    Ponta Delgada          20      PT  1584214889        72  37.73  -25.67   \n",
       "1          Rikitea           0      PF  1584214891        80 -23.12 -134.97   \n",
       "2             Lebu           0      CL  1584214893        54 -37.62  -73.65   \n",
       "3            Korla         100      CN  1584214895        59  41.76   86.15   \n",
       "4          Isangel          75      VU  1584214897        78 -19.55  169.27   \n",
       "..             ...         ...     ...         ...       ...    ...     ...   \n",
       "577      Kysyl-Syr         100      RU  1584216140        98  63.90  122.76   \n",
       "578       Karratha          88      AU  1584216142        76 -20.74  116.85   \n",
       "579          Kalat          99      PK  1584216145        32  29.02   66.59   \n",
       "580            Moa           0      CU  1584216147        69  20.66  -74.94   \n",
       "581        Hsinchu          75      TW  1584216005        76  24.80  120.97   \n",
       "\n",
       "     Max Temp  Wind Speed  \n",
       "0       60.80       13.87  \n",
       "1       77.67       13.69  \n",
       "2       62.87       13.24  \n",
       "3       39.99        1.57  \n",
       "4       82.40       12.75  \n",
       "..        ...         ...  \n",
       "577     -3.15        6.44  \n",
       "578     83.07       14.34  \n",
       "579     44.19        1.52  \n",
       "580     75.51        9.44  \n",
       "581     57.99       10.29  \n",
       "\n",
       "[582 rows x 9 columns]"
      ]
     },
     "execution_count": 66,
     "metadata": {},
     "output_type": "execute_result"
    }
   ],
   "source": [
    "# load csv from WeatherPy to a DataFrame\n",
    "csv_load = []\n",
    "\n",
    "with open('city_list.csv','r', encoding=\"utf-8-sig\") as csvfile:    \n",
    "    city_list = pd.read_csv(csvfile)\n",
    "        \n",
    "city_list"
   ]
  },
  {
   "cell_type": "markdown",
   "metadata": {},
   "source": [
    "### Humidity Heatmap"
   ]
  },
  {
   "cell_type": "code",
   "execution_count": 67,
   "metadata": {},
   "outputs": [],
   "source": [
    "# configure gkey\n",
    "gmaps.configure(api_key=g_key)"
   ]
  },
  {
   "cell_type": "code",
   "execution_count": 68,
   "metadata": {},
   "outputs": [
    {
     "data": {
      "application/vnd.jupyter.widget-view+json": {
       "model_id": "d3c104efd5ca400d8b6e6413f7f891c6",
       "version_major": 2,
       "version_minor": 0
      },
      "text/plain": [
       "Figure(layout=FigureLayout(height='420px'))"
      ]
     },
     "metadata": {},
     "output_type": "display_data"
    }
   ],
   "source": [
    "# create weighted heatmap based on coordinates & himidity\n",
    "fig = gmaps.figure()\n",
    "heatmap_layer = gmaps.heatmap_layer(\n",
    "    city_list[['Lat', 'Lng']], weights=city_list['Humidity'],\n",
    "    max_intensity=70, point_radius=7.0)\n",
    "fig.add_layer(heatmap_layer)\n",
    "fig"
   ]
  },
  {
   "cell_type": "markdown",
   "metadata": {},
   "source": [
    "### Create new DataFrame fitting weather criteria"
   ]
  },
  {
   "cell_type": "code",
   "execution_count": 69,
   "metadata": {
    "scrolled": true
   },
   "outputs": [],
   "source": [
    "# create new df based on temperature conditions & drop any null values\n",
    "perf_temp = city_list.loc[((city_list['Max Temp'] > 70) & (city_list['Max Temp'] < 80)) & (city_list['Wind Speed'] < 10) & (city_list['Cloudiness'] == 0)].dropna()"
   ]
  },
  {
   "cell_type": "markdown",
   "metadata": {},
   "source": [
    "### Hotel Map\n",
    "* Set parameters to search for hotels with 5000 meters.\n",
    "* Hit the Google Places API for each city's coordinates.\n",
    "* Store the first Hotel result into the DataFrame.\n",
    "* Plot markers on top of the heatmap."
   ]
  },
  {
   "cell_type": "code",
   "execution_count": 64,
   "metadata": {},
   "outputs": [],
   "source": [
    "# create new df based on meeting temperature conditions & add new column for hotel names\n",
    "hotel_df = perf_temp\n",
    "hotel_df[\"Hotel Name\"] = \"\""
   ]
  },
  {
   "cell_type": "code",
   "execution_count": null,
   "metadata": {},
   "outputs": [],
   "source": []
  },
  {
   "cell_type": "code",
   "execution_count": null,
   "metadata": {},
   "outputs": [],
   "source": [
    "\n"
   ]
  },
  {
   "cell_type": "code",
   "execution_count": null,
   "metadata": {},
   "outputs": [],
   "source": [
    "# NOTE: Do not change any of the code in this cell\n",
    "\n",
    "# Using the template add the hotel marks to the heatmap\n",
    "info_box_template = \"\"\"\n",
    "<dl>\n",
    "<dt>Name</dt><dd>{Hotel Name}</dd>\n",
    "<dt>City</dt><dd>{City}</dd>\n",
    "<dt>Country</dt><dd>{Country}</dd>\n",
    "</dl>\n",
    "\"\"\"\n",
    "# Store the DataFrame Row\n",
    "# NOTE: be sure to update with your DataFrame name\n",
    "hotel_info = [info_box_template.format(**row) for index, row in narrowed_city_df.iterrows()]\n",
    "locations = hotel_df[[\"Lat\", \"Lng\"]]"
   ]
  },
  {
   "cell_type": "code",
   "execution_count": null,
   "metadata": {},
   "outputs": [],
   "source": [
    "# Add marker layer ontop of heat map\n",
    "\n",
    "\n",
    "# Display Map"
   ]
  }
 ],
 "metadata": {
  "kernelspec": {
   "display_name": "Python 3.7.4 64-bit ('base': conda)",
   "language": "python",
   "name": "python37464bitbaseconda3f6fbcab3f3147df967fed2ae75b107d"
  },
  "language_info": {
   "codemirror_mode": {
    "name": "ipython",
    "version": 3
   },
   "file_extension": ".py",
   "mimetype": "text/x-python",
   "name": "python",
   "nbconvert_exporter": "python",
   "pygments_lexer": "ipython3",
   "version": "3.7.4"
  },
  "latex_envs": {
   "LaTeX_envs_menu_present": true,
   "autoclose": false,
   "autocomplete": true,
   "bibliofile": "biblio.bib",
   "cite_by": "apalike",
   "current_citInitial": 1,
   "eqLabelWithNumbers": true,
   "eqNumInitial": 1,
   "hotkeys": {
    "equation": "Ctrl-E",
    "itemize": "Ctrl-I"
   },
   "labels_anchors": false,
   "latex_user_defs": false,
   "report_style_numbering": false,
   "user_envs_cfg": false
  }
 },
 "nbformat": 4,
 "nbformat_minor": 2
}
