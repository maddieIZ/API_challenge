{
 "cells": [
  {
   "cell_type": "markdown",
   "metadata": {},
   "source": [
    "# VacationPy\n",
    "----\n",
    "\n",
    "#### Note\n",
    "* Instructions have been included for each segment. You do not have to follow them exactly, but they are included to help you think through the steps."
   ]
  },
  {
   "cell_type": "code",
   "execution_count": 14,
   "metadata": {},
   "outputs": [],
   "source": [
    "# Dependencies and Setup\n",
    "import matplotlib.pyplot as plt\n",
    "import pandas as pd\n",
    "import numpy as np\n",
    "import requests\n",
    "import gmaps\n",
    "import os\n",
    "import csv\n",
    "import warnings\n",
    "warnings.filterwarnings(\"ignore\")\n",
    "# Import API key\n",
    "from api_keys import g_key\n"
   ]
  },
  {
   "cell_type": "markdown",
   "metadata": {},
   "source": [
    "### Store Part I results into DataFrame\n",
    "* Load the csv exported in Part I to a DataFrame"
   ]
  },
  {
   "cell_type": "code",
   "execution_count": 15,
   "metadata": {},
   "outputs": [
    {
     "data": {
      "text/html": [
       "<div>\n",
       "<style scoped>\n",
       "    .dataframe tbody tr th:only-of-type {\n",
       "        vertical-align: middle;\n",
       "    }\n",
       "\n",
       "    .dataframe tbody tr th {\n",
       "        vertical-align: top;\n",
       "    }\n",
       "\n",
       "    .dataframe thead th {\n",
       "        text-align: right;\n",
       "    }\n",
       "</style>\n",
       "<table border=\"1\" class=\"dataframe\">\n",
       "  <thead>\n",
       "    <tr style=\"text-align: right;\">\n",
       "      <th></th>\n",
       "      <th>maxtemp</th>\n",
       "    </tr>\n",
       "  </thead>\n",
       "  <tbody>\n",
       "    <tr>\n",
       "      <td>0</td>\n",
       "      <td>57.00</td>\n",
       "    </tr>\n",
       "    <tr>\n",
       "      <td>1</td>\n",
       "      <td>81.88</td>\n",
       "    </tr>\n",
       "    <tr>\n",
       "      <td>2</td>\n",
       "      <td>76.66</td>\n",
       "    </tr>\n",
       "    <tr>\n",
       "      <td>3</td>\n",
       "      <td>25.72</td>\n",
       "    </tr>\n",
       "    <tr>\n",
       "      <td>4</td>\n",
       "      <td>82.38</td>\n",
       "    </tr>\n",
       "    <tr>\n",
       "      <td>...</td>\n",
       "      <td>...</td>\n",
       "    </tr>\n",
       "    <tr>\n",
       "      <td>577</td>\n",
       "      <td>16.32</td>\n",
       "    </tr>\n",
       "    <tr>\n",
       "      <td>578</td>\n",
       "      <td>55.40</td>\n",
       "    </tr>\n",
       "    <tr>\n",
       "      <td>579</td>\n",
       "      <td>34.95</td>\n",
       "    </tr>\n",
       "    <tr>\n",
       "      <td>580</td>\n",
       "      <td>42.01</td>\n",
       "    </tr>\n",
       "    <tr>\n",
       "      <td>581</td>\n",
       "      <td>81.82</td>\n",
       "    </tr>\n",
       "  </tbody>\n",
       "</table>\n",
       "<p>582 rows × 1 columns</p>\n",
       "</div>"
      ],
      "text/plain": [
       "     maxtemp\n",
       "0      57.00\n",
       "1      81.88\n",
       "2      76.66\n",
       "3      25.72\n",
       "4      82.38\n",
       "..       ...\n",
       "577    16.32\n",
       "578    55.40\n",
       "579    34.95\n",
       "580    42.01\n",
       "581    81.82\n",
       "\n",
       "[582 rows x 1 columns]"
      ]
     },
     "execution_count": 15,
     "metadata": {},
     "output_type": "execute_result"
    }
   ],
   "source": [
    "with open('CityWethear.csv', encoding=\"utf-8-sig\") as csvfile:\n",
    "    csvresult = pd.read_csv(csvfile)\n",
    "maxtemp =  csvresult[[\"maxtemp\"]].apply(pd.to_numeric) \n",
    "maxtemp"
   ]
  },
  {
   "cell_type": "markdown",
   "metadata": {},
   "source": [
    "### Humidity Heatmap\n",
    "* Configure gmaps.\n",
    "* Use the Lat and Lng as locations and Humidity as the weight.\n",
    "* Add Heatmap layer to map."
   ]
  },
  {
   "cell_type": "code",
   "execution_count": 16,
   "metadata": {},
   "outputs": [],
   "source": [
    "# Access maps with unique API key\n",
    "gmaps.configure(api_key=g_key)\n",
    "coordinates = csvresult[[\"lat\", \"lng\"]]  \n",
    "humidity = csvresult[\"humidity\"].astype(float)"
   ]
  },
  {
   "cell_type": "code",
   "execution_count": 17,
   "metadata": {},
   "outputs": [
    {
     "data": {
      "application/vnd.jupyter.widget-view+json": {
       "model_id": "11ad6dcf95e147a4b28edd2e3e24e026",
       "version_major": 2,
       "version_minor": 0
      },
      "text/plain": [
       "Figure(layout=FigureLayout(height='420px'))"
      ]
     },
     "metadata": {},
     "output_type": "display_data"
    }
   ],
   "source": [
    "fig = gmaps.figure()\n",
    "fig.add_layer(gmaps.heatmap_layer(coordinates, weights = humidity, dissipating = False, max_intensity = 80, point_radius = 1))\n",
    "fig"
   ]
  },
  {
   "cell_type": "markdown",
   "metadata": {},
   "source": [
    "### Create new DataFrame fitting weather criteria\n",
    "* Narrow down the cities to fit weather conditions.\n",
    "* Drop any rows will null values."
   ]
  },
  {
   "cell_type": "code",
   "execution_count": 19,
   "metadata": {},
   "outputs": [
    {
     "data": {
      "application/vnd.jupyter.widget-view+json": {
       "model_id": "e60bff255e484aec9a35da3d6a215a8a",
       "version_major": 2,
       "version_minor": 0
      },
      "text/plain": [
       "Figure(layout=FigureLayout(height='420px'))"
      ]
     },
     "metadata": {},
     "output_type": "display_data"
    }
   ],
   "source": [
    "dreamspot = csvresult.loc[(csvresult['maxtemp'] > 70) & (csvresult['maxtemp'] < 80) & (csvresult['windspeed'] < 10) &(csvresult['cloud'] == 0)]\n",
    "dreamcoordinates = dreamspot[[\"lat\", \"lng\"]]\n",
    "dreamspot['Hotel Name'] = \"\"\n",
    "fig = gmaps.figure()\n",
    "fig.add_layer(gmaps.heatmap_layer(dreamcoordinates))\n",
    "fig"
   ]
  },
  {
   "cell_type": "code",
   "execution_count": 20,
   "metadata": {},
   "outputs": [
    {
     "data": {
      "text/plain": [
       "9"
      ]
     },
     "execution_count": 20,
     "metadata": {},
     "output_type": "execute_result"
    }
   ],
   "source": [
    "len(dreamspot)"
   ]
  },
  {
   "cell_type": "markdown",
   "metadata": {},
   "source": [
    "### Hotel Map\n",
    "* Store into variable named `hotel_df`.\n",
    "* Add a \"Hotel Name\" column to the DataFrame.\n",
    "* Set parameters to search for hotels with 5000 meters.\n",
    "* Hit the Google Places API for each city's coordinates.\n",
    "* Store the first Hotel result into the DataFrame.\n",
    "* Plot markers on top of the heatmap."
   ]
  },
  {
   "cell_type": "code",
   "execution_count": 21,
   "metadata": {},
   "outputs": [
    {
     "name": "stdout",
     "output_type": "stream",
     "text": [
      "Amari Galle Sri Lanka\n",
      "Hotel da Canoa\n",
      "Gateway Lifestyle Casino\n",
      "Keingtawan Resort\n",
      "there was no hotel around\n",
      "Hotel Kyriad Muraya\n",
      "iGowati Lodge\n",
      "Pedrim Hotel\n",
      "Eden Hotel\n"
     ]
    }
   ],
   "source": [
    "hotel_df = dreamspot\n",
    "\n",
    "\n",
    "for index,row in hotel_df.iterrows():\n",
    "    lat = row[\"lat\"]\n",
    "    lng = row[\"lng\"]\n",
    "    hotelcoordinate =  str(f\"{lat}, {lng}\")\n",
    "    radius = 5000\n",
    "    keyword = \"Hotel\"\n",
    "    hoteltype = \"Hotel\"\n",
    "\n",
    "    # set up a parameters dictionary\n",
    "    params = {\n",
    "        \"location\": hotelcoordinate,\n",
    "        \"keyword\": keyword,\n",
    "        \"radius\": radius,\n",
    "        \"type\": hoteltype,\n",
    "        \"key\": g_key\n",
    "    }\n",
    "\n",
    "    # base url\n",
    "    \n",
    "    base_url = \"https://maps.googleapis.com/maps/api/place/nearbysearch/json\"\n",
    "\n",
    "    # run a request using our params dictionary\n",
    "    response = requests.get(base_url, params=params,verify=False)\n",
    "    hotel_name = response.json()\n",
    "    \n",
    "    try:\n",
    "        hotelname = hotel_name[\"results\"][0][\"name\"]\n",
    "    except:\n",
    "        hotelname = \"there was no hotel around\"\n",
    "    print(hotelname)\n"
   ]
  },
  {
   "cell_type": "code",
   "execution_count": 22,
   "metadata": {},
   "outputs": [],
   "source": [
    "# NOTE: Do not change any of the code in this cell\n",
    "\n",
    "# Using the template add the hotel marks to the heatmap\n",
    "info_box_template = \"\"\"\n",
    "<dl>\n",
    "<dt>Name</dt><dd>{Hotel Name}</dd>\n",
    "<dt>City</dt><dd>{city}</dd>\n",
    "<dt>Country</dt><dd>{country}</dd>\n",
    "</dl>\n",
    "\"\"\"\n",
    "# Store the DataFrame Row\n",
    "# NOTE: be sure to update with your DataFrame name\n",
    "hotel_info = [info_box_template.format(**row) for index, row in dreamspot.iterrows()]\n",
    "coordinates = dreamspot[[\"lat\", \"lng\"]]"
   ]
  },
  {
   "cell_type": "code",
   "execution_count": 23,
   "metadata": {},
   "outputs": [
    {
     "data": {
      "application/vnd.jupyter.widget-view+json": {
       "model_id": "5962e9cd0796496ab7bb5081052dd15e",
       "version_major": 2,
       "version_minor": 0
      },
      "text/plain": [
       "Figure(layout=FigureLayout(height='420px'))"
      ]
     },
     "metadata": {},
     "output_type": "display_data"
    }
   ],
   "source": [
    "# Add marker layer ontop of heat map\n",
    "fig = gmaps.figure()\n",
    "markers = gmaps.marker_layer(coordinates,\n",
    "    info_box_content=[f\"Hotel Name: {hotel}\" for hotel in hotel_info])\n",
    "fig.add_layer(markers)\n",
    "fig.add_layer(gmaps.heatmap_layer(dreamcoordinates))\n",
    "\n",
    "\n",
    "# Display Map\n",
    "fig\n",
    "\n",
    "# Display Map"
   ]
  },
  {
   "cell_type": "code",
   "execution_count": null,
   "metadata": {},
   "outputs": [],
   "source": []
  }
 ],
 "metadata": {
  "kernelspec": {
   "display_name": "Python 3",
   "language": "python",
   "name": "python3"
  },
  "language_info": {
   "codemirror_mode": {
    "name": "ipython",
    "version": 3
   },
   "file_extension": ".py",
   "mimetype": "text/x-python",
   "name": "python",
   "nbconvert_exporter": "python",
   "pygments_lexer": "ipython3",
   "version": "3.7.4"
  },
  "latex_envs": {
   "LaTeX_envs_menu_present": true,
   "autoclose": false,
   "autocomplete": true,
   "bibliofile": "biblio.bib",
   "cite_by": "apalike",
   "current_citInitial": 1,
   "eqLabelWithNumbers": true,
   "eqNumInitial": 1,
   "hotkeys": {
    "equation": "Ctrl-E",
    "itemize": "Ctrl-I"
   },
   "labels_anchors": false,
   "latex_user_defs": false,
   "report_style_numbering": false,
   "user_envs_cfg": false
  }
 },
 "nbformat": 4,
 "nbformat_minor": 2
}
